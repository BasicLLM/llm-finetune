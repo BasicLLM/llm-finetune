{
 "cells": [
  {
   "metadata": {},
   "cell_type": "markdown",
   "source": [
    "# 使用 LoRA 对模型进行微调\n",
    "\n",
    "## LoRA 原理\n",
    "\n",
    "**LoRA（Low-Rank Adaptation，低秩自适应）** 是一种高效微调大语言模型（LLM）的技术，其核心思想是通过低秩分解，在原始模型参数旁添加少量可训练的“低秩矩阵”来模拟参数更新，而非直接调整庞大的原始参数。这种方法大幅减少了训练参数量（通常降低万倍以上），显著节省计算资源和存储开销，同时保持与全参数微调相近的效果，且推理时可通过合并矩阵避免额外延迟。LoRA特别适合资源有限或需要快速适配多任务的大模型场景。其原理图如下所示：\n",
    "\n",
    "![LoRA Struct](img/LoRA-Struct.svg)\n",
    "\n",
    "（图中左侧表示全参数微调，右侧表示 LoRA 微调，蓝色部分表示需要训练的权重，灰色部分表示冻结的权重不参与训练）\n",
    "\n",
    "经过 LoRA 微调后的模型结果会产生一个额外的 LoRA 权重对应于图中的虚线框部分，下次调用模型时将 LoRA 权重加载到基础模型上即可。\n",
    "\n",
    "## LoRA 训练\n",
    "\n",
    "在开源模型技术蓬勃发展的当下，以 LoRA 为代表的参数高效微调方法已成为大模型适配下游任务的重要范式。尽管当前主流大语言模型的架构参数大多已开源，**但工程实践中开发者更关注微调策略的实施而非底层网络结构的实现细节**。为此，本文聚焦大语言模型的微调训练实践，基于Hugging Face生态中的强化学习训练库TRL（Transformer Reinforcement Learning），系统解析监督式微调（SFT）等核心技术的实现路径。\n",
    "\n",
    "TRL作为🤗 Transformers生态的重要组件，集成了监督式微调（SFT）、近端策略优化（PPO）和直接偏好优化（DPO）等前沿训练范式。该库不仅支持多模态模型的灵活适配，更能通过分布式训练框架实现从单卡到集群的弹性扩展，为不同硬件环境下的模型调优提供统一的技术解决方案。其模块化设计兼顾算法创新与工程落地，开发者既可直接调用预置训练流程，也可基于API灵活构建定制化训练策略。\n",
    "\n",
    "- TRL 开源：[Github - trl](https://github.com/huggingface/trl)\n",
    "- TRL 文档：[huggingface - trl](https://hf.co/docs/trl)\n",
    "\n",
    "### 1. 引入必要的库"
   ],
   "id": "34d7a4fa068ac2cc"
  },
  {
   "metadata": {},
   "cell_type": "code",
   "outputs": [],
   "execution_count": null,
   "source": [
    "from trl import SFTTrainer\n",
    "from datasets import load_dataset"
   ],
   "id": "a9a07c08359c4d26"
  },
  {
   "metadata": {},
   "cell_type": "markdown",
   "source": "### 2. 准备数据",
   "id": "1cbe15fd2ff25b97"
  },
  {
   "metadata": {},
   "cell_type": "code",
   "outputs": [],
   "execution_count": null,
   "source": "dataset = load_dataset(\"trl-lib/Capybara\", split=\"train\")",
   "id": "918a019412c85b96"
  },
  {
   "metadata": {},
   "cell_type": "markdown",
   "source": "### 3. 进行训练",
   "id": "7a8bf22927520951"
  },
  {
   "metadata": {},
   "cell_type": "code",
   "outputs": [],
   "execution_count": null,
   "source": [
    "trainer = SFTTrainer(\n",
    "    model=\"Qwen/Qwen2.5-0.5B\",\n",
    "    train_dataset=dataset,\n",
    ")\n",
    "trainer.train()"
   ],
   "id": "75a224b77db0207d"
  }
 ],
 "metadata": {
  "kernelspec": {
   "display_name": "Python 3",
   "language": "python",
   "name": "python3"
  },
  "language_info": {
   "codemirror_mode": {
    "name": "ipython",
    "version": 2
   },
   "file_extension": ".py",
   "mimetype": "text/x-python",
   "name": "python",
   "nbconvert_exporter": "python",
   "pygments_lexer": "ipython2",
   "version": "2.7.6"
  }
 },
 "nbformat": 4,
 "nbformat_minor": 5
}
