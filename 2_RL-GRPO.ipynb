{
 "cells": [
  {
   "metadata": {},
   "cell_type": "markdown",
   "source": [
    "# 使用 GRPO 训练模型\n",
    "\n",
    "## GRPO 训练\n",
    "\n",
    "### 1. 引入必要的库"
   ],
   "id": "d27d5d5a8be84fc5"
  },
  {
   "metadata": {
    "collapsed": true
   },
   "cell_type": "code",
   "outputs": [],
   "execution_count": null,
   "source": [
    "from datasets import load_dataset,Dataset\n",
    "from trl import GRPOConfig, GRPOTrainer"
   ],
   "id": "initial_id"
  },
  {
   "metadata": {},
   "cell_type": "markdown",
   "source": "### 2. 加载并设计训练数据",
   "id": "11710f8048cfede9"
  },
  {
   "metadata": {},
   "cell_type": "code",
   "outputs": [],
   "execution_count": null,
   "source": [
    "data_path = \"E:/AI/DataSet/trl-lib/tldr\"\n",
    "\n",
    "answer_label = 'answer'\n",
    "SYSTEM_PROMPT = f'你的回答需要在<{answer_label}></{answer_label}>标签内。'\n",
    "XML_COT_FORMAT = f'<{answer_label}>' + '{answer}' + f'</{answer_label}>'\n",
    "\n",
    "# 数据处理\n",
    "def get_dataset(split = \"train\") -> Dataset:\n",
    "\n",
    "    data = load_dataset(data_path, split=split)\n",
    "    data = data.map(lambda x: {\n",
    "        'prompt': [\n",
    "            {'role': 'system', 'content': SYSTEM_PROMPT},\n",
    "            # few shot, 因为0.5B模型太弱了\n",
    "            {'role': 'user', 'content': '数字10203040里面有几个0?'},\n",
    "            {'role': 'assistant', 'content': XML_COT_FORMAT.format(answer='4个0')},\n",
    "            {'role': 'user', 'content': x['prompt']}\n",
    "        ],\n",
    "        'answer': x['completion']\n",
    "    })\n",
    "    return data\n",
    "\n",
    "dataset = get_dataset(\"train\")\n",
    "dataset = dataset.remove_columns(\"completion\")"
   ],
   "id": "46a8503dd3b02606"
  },
  {
   "metadata": {},
   "cell_type": "markdown",
   "source": "### 3. 设计奖励函数",
   "id": "9fe4c816cc1bddff"
  },
  {
   "metadata": {},
   "cell_type": "code",
   "outputs": [],
   "execution_count": null,
   "source": [
    "import re\n",
    "\n",
    "def extract_answer(completion):\n",
    "    pattern = f'^.*<{answer_label}>(.+)</{answer_label}>.*$'\n",
    "    match=re.search(pattern,completion,re.DOTALL)\n",
    "    if match:\n",
    "        answer=match.group(1)\n",
    "    else:\n",
    "        answer=None\n",
    "    return answer\n",
    "\n",
    "# 内容奖励\n",
    "def reward_content(completions, answer, **kwargs):\n",
    "    scores = []\n",
    "    for idx,completion in enumerate(completions):\n",
    "\n",
    "        response_answer = extract_answer(completion[0]['content'])\n",
    "        if response_answer is None:\n",
    "            scores.append(0)\n",
    "            continue\n",
    "\n",
    "        dlen = len(answer[idx]) - len(response_answer)\n",
    "        if dlen > 0:\n",
    "            scores.append(5)\n",
    "        else:\n",
    "            scores.append(0)\n",
    "    return scores\n",
    "\n",
    "# 宽松标签奖励\n",
    "def reward_label(completions, **kwargs):\n",
    "\n",
    "    print(completions)\n",
    "\n",
    "    pattern = f'^.*<{answer_label}>(.+)</{answer_label}>.*$'\n",
    "    scores = []\n",
    "    for completion in completions:\n",
    "        if re.fullmatch(pattern, completion[0]['content']):\n",
    "            scores.append(5)\n",
    "        else:\n",
    "            scores.append(0)\n",
    "    return scores\n",
    "\n",
    "# 严格标签奖励\n",
    "def reward_label_strict(completions, **kwargs):\n",
    "    pattern = f'^<{answer_label}>(.+)</{answer_label}>$'\n",
    "    scores = []\n",
    "    for completion in completions:\n",
    "        if re.fullmatch(pattern, completion[0]['content']):\n",
    "            scores.append(10)\n",
    "        else:\n",
    "            scores.append(0)\n",
    "    return scores"
   ],
   "id": "94a7063030eef8f4"
  },
  {
   "metadata": {},
   "cell_type": "markdown",
   "source": "### 4. 进行训练",
   "id": "3221c0bf9051c087"
  },
  {
   "metadata": {},
   "cell_type": "code",
   "outputs": [],
   "execution_count": null,
   "source": [
    "model_path = \"E:/AI/Models/Qwen/Qwen2.5-0.5B\"\n",
    "output_dir = \"./output/grpo\"\n",
    "\n",
    "training_args = GRPOConfig(\n",
    "    output_dir = output_dir,\n",
    "    learning_rate = 5e-6,\n",
    "    adam_beta1 = 0.9,\n",
    "    adam_beta2 = 0.99,\n",
    "    weight_decay = 0.1,\n",
    "    warmup_ratio = 0.1,\n",
    "    lr_scheduler_type = \"cosine\",\n",
    "    bf16 = True,\n",
    "    per_device_train_batch_size = 2,\n",
    "    gradient_accumulation_steps = 4,\n",
    "    num_generations = 2,\n",
    "    max_prompt_length = 256,\n",
    "    max_completion_length = 300,\n",
    "    num_train_epochs = 1,\n",
    "    save_steps = 100,\n",
    "    max_grad_norm = 0.1,\n",
    "    logging_steps=10,\n",
    "    # report_to = \"tensorboard\",\n",
    ")\n",
    "\n",
    "trainer = GRPOTrainer(\n",
    "    model=model_path,\n",
    "    reward_funcs=[\n",
    "        reward_label,\n",
    "        reward_label_strict,\n",
    "        reward_content\n",
    "    ],\n",
    "    args=training_args,\n",
    "    train_dataset=dataset,\n",
    ")\n",
    "\n",
    "trainer.train()"
   ],
   "id": "c865446c7de18b5c"
  },
  {
   "metadata": {},
   "cell_type": "markdown",
   "source": "### 5. 保存模型",
   "id": "75546671961abb52"
  },
  {
   "metadata": {},
   "cell_type": "code",
   "outputs": [],
   "execution_count": null,
   "source": [
    "# 保存路径\n",
    "output_dir = \"./output/final\"\n",
    "\n",
    "trainer.model.save_pretrained(output_dir)"
   ],
   "id": "dee191cd68606278"
  }
 ],
 "metadata": {
  "kernelspec": {
   "display_name": "Python 3",
   "language": "python",
   "name": "python3"
  },
  "language_info": {
   "codemirror_mode": {
    "name": "ipython",
    "version": 2
   },
   "file_extension": ".py",
   "mimetype": "text/x-python",
   "name": "python",
   "nbconvert_exporter": "python",
   "pygments_lexer": "ipython2",
   "version": "2.7.6"
  }
 },
 "nbformat": 4,
 "nbformat_minor": 5
}
